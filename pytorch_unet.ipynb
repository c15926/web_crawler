{
  "nbformat": 4,
  "nbformat_minor": 0,
  "metadata": {
    "colab": {
      "name": "pytorch-unet.ipynb",
      "provenance": [],
      "authorship_tag": "ABX9TyN5sdP8mb3Cjua82yYJmxhI",
      "include_colab_link": true
    },
    "kernelspec": {
      "name": "python3",
      "display_name": "Python 3"
    }
  },
  "cells": [
    {
      "cell_type": "markdown",
      "metadata": {
        "id": "view-in-github",
        "colab_type": "text"
      },
      "source": [
        "<a href=\"https://colab.research.google.com/github/c15926/web_crawler/blob/master/pytorch_unet.ipynb\" target=\"_parent\"><img src=\"https://colab.research.google.com/assets/colab-badge.svg\" alt=\"Open In Colab\"/></a>"
      ]
    },
    {
      "cell_type": "code",
      "metadata": {
        "id": "oQAKrUOT8tPq"
      },
      "source": [
        "%load_ext tensorboard"
      ],
      "execution_count": null,
      "outputs": []
    },
    {
      "cell_type": "code",
      "metadata": {
        "id": "24uBNQczPxa8"
      },
      "source": [
        "tensorboard --logdir='./drive/My Drive/pytorch-unet/log'"
      ],
      "execution_count": null,
      "outputs": []
    },
    {
      "cell_type": "code",
      "metadata": {
        "id": "w_207e6_XpsR"
      },
      "source": [
        ""
      ],
      "execution_count": null,
      "outputs": []
    },
    {
      "cell_type": "code",
      "metadata": {
        "id": "4_-rDS_WP32Q",
        "outputId": "54ec3a50-74db-4514-955e-b403469e939a",
        "colab": {
          "base_uri": "https://localhost:8080/",
          "height": 54
        }
      },
      "source": [
        "from google.colab import drive\n",
        "drive.mount('/content/drive')"
      ],
      "execution_count": null,
      "outputs": [
        {
          "output_type": "stream",
          "text": [
            "Drive already mounted at /content/drive; to attempt to forcibly remount, call drive.mount(\"/content/drive\", force_remount=True).\n"
          ],
          "name": "stdout"
        }
      ]
    },
    {
      "cell_type": "code",
      "metadata": {
        "id": "ZF2cSppQP9Xt",
        "outputId": "a03c1a37-7f8d-4825-f868-88a28f386ad6",
        "colab": {
          "base_uri": "https://localhost:8080/",
          "height": 284
        }
      },
      "source": [
        "!python3 './drive/My Drive/pytorch-unet/train.py'\n"
      ],
      "execution_count": null,
      "outputs": [
        {
          "output_type": "stream",
          "text": [
            "learning rate: 1.0000e-03\n",
            "batch size: 4\n",
            "number of epoch: 100\n",
            "data dir: ./drive/My Drive/pytorch-unet/datasets\n",
            "ckpt dir: ./drive/My Drive/pytorch-unet/checkpoint\n",
            "log dir: ./drive/My Drive/pytorch-unet/log\n",
            "result dir: ./drive/My Drive/pytorch-unet/results\n",
            "mode: train\n",
            "2020-10-08 08:38:10.566349: I tensorflow/stream_executor/platform/default/dso_loader.cc:48] Successfully opened dynamic library libcudart.so.10.1\n",
            "TRAIN: EPOCH 0001 / 0100 | BATCH 0001 / 0006 | LOSS 0.7675\n",
            "TRAIN: EPOCH 0001 / 0100 | BATCH 0002 / 0006 | LOSS 0.6917\n",
            "TRAIN: EPOCH 0001 / 0100 | BATCH 0003 / 0006 | LOSS 0.6718\n",
            "TRAIN: EPOCH 0001 / 0100 | BATCH 0004 / 0006 | LOSS 0.6469\n",
            "TRAIN: EPOCH 0001 / 0100 | BATCH 0005 / 0006 | LOSS 0.6205\n"
          ],
          "name": "stdout"
        }
      ]
    },
    {
      "cell_type": "code",
      "metadata": {
        "id": "c3tSWzDtXrwf"
      },
      "source": [
        "!python3 './drive/My Drive/pytorch-unet/eval.py'"
      ],
      "execution_count": null,
      "outputs": []
    },
    {
      "cell_type": "code",
      "metadata": {
        "id": "q5Yc32PpX05A"
      },
      "source": [
        "!python3 \"./drive/My Drive/pytorch-unet/train.py\" \\\n",
        "--lr 1e-2 --batch_size 2 --num_epoch 300 \\\n",
        "--data_dir \"./drive/My Drive/pytorch-unet/datasets\" \\\n",
        "--ckpt_dir \"./drive/My Drive/pytorch-unet/checkpoint_v2\" \\\n",
        "--log_dir \"./drive/My Drive/pytorch-unet/log_v2\" \\\n",
        "--result_dir \".drive/My Drive/pytorch-unet/result_v2\" \\\n",
        "--mode \"test\" \\\n",
        "--train_continue \"off\""
      ],
      "execution_count": null,
      "outputs": []
    }
  ]
}